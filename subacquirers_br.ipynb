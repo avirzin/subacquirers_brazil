{
 "cells": [
  {
   "cell_type": "markdown",
   "metadata": {},
   "source": [
    "## Understanding the relationship between CERC and CIP participants\n",
    "\n",
    "Let's start extracting the list of participants from publicly available lists starting with CERC."
   ]
  },
  {
   "cell_type": "code",
   "execution_count": 97,
   "metadata": {},
   "outputs": [],
   "source": [
    "import tabula\n",
    "import pandas as pd\n",
    "\n",
    "df_cerc = tabula.read_pdf(\"./input/LISTA-PARTICIPANTES-CERC-ARRANJOS-DE-PAGAMENTO-1.pdf\", pages=\"all\")\n",
    "\n",
    "# In first dataframe transform the first row in header\n",
    "df_cerc[0].columns = df_cerc[0].iloc[0]\n",
    "df_cerc[0] = df_cerc[0].drop(df_cerc[0].index[0])\n",
    "\n",
    "# Transform the header in the first row\n",
    "for i in range(1,7):\n",
    "    df_cerc[i].loc[-1] = df_cerc[i].columns\n",
    "    df_cerc[i].index = df_cerc[i].index + 1\n",
    "    df_cerc[i].sort_index(inplace=True)\n",
    "    df_cerc[i].columns = df_cerc[0].columns\n",
    "\n",
    "df_cerc = pd.concat([df_cerc[0], df_cerc[1], df_cerc[2], df_cerc[3], df_cerc[4], df_cerc[5], df_cerc[6]], ignore_index=True)\n",
    "\n",
    "# Remove the first column in all the dataframes\n",
    "df_cerc = df_cerc.drop(df_cerc.columns[:1], axis=1)\n",
    "\n",
    "df_cerc.reset_index(drop=True)\n",
    "\n",
    "# Renaming the columns\n",
    "df_cerc.columns = [\"corporate_name\", \"cnpj\", \"profile\"]\n",
    "\n",
    "# Remove dashes and dots in cnpj column\n",
    "df_cerc[\"cnpj\"] = df_cerc[\"cnpj\"].str.replace(\"[./-]\", \"\", regex=True)\n",
    "\n"
   ]
  },
  {
   "cell_type": "markdown",
   "metadata": {},
   "source": [
    "The same operation we perform with CIP:"
   ]
  },
  {
   "cell_type": "code",
   "execution_count": 241,
   "metadata": {},
   "outputs": [],
   "source": [
    "df_cip = tabula.read_pdf(\"./input/Participantes Homologados.pdf\", pages=\"all\")\n",
    "\n",
    "# Remove first three rows from the first page\n",
    "df_cip[0] = df_cip[0].drop(df_cip[0].index[:3])\n",
    "df_cip[4] = df_cip[4].drop(df_cip[4].index[:3])\n"
   ]
  },
  {
   "cell_type": "code",
   "execution_count": 239,
   "metadata": {},
   "outputs": [
    {
     "data": {
      "text/html": [
       "<div>\n",
       "<style scoped>\n",
       "    .dataframe tbody tr th:only-of-type {\n",
       "        vertical-align: middle;\n",
       "    }\n",
       "\n",
       "    .dataframe tbody tr th {\n",
       "        vertical-align: top;\n",
       "    }\n",
       "\n",
       "    .dataframe thead th {\n",
       "        text-align: right;\n",
       "    }\n",
       "</style>\n",
       "<table border=\"1\" class=\"dataframe\">\n",
       "  <thead>\n",
       "    <tr style=\"text-align: right;\">\n",
       "      <th></th>\n",
       "      <th>Unnamed: 0</th>\n",
       "      <th>Unnamed: 1</th>\n",
       "      <th>Unnamed: 2</th>\n",
       "      <th>SLC - RELAÇÃO DE PARTICIPANTES</th>\n",
       "      <th>Unnamed: 3</th>\n",
       "      <th>Unnamed: 4</th>\n",
       "      <th>Unnamed: 5</th>\n",
       "      <th>Unnamed: 6</th>\n",
       "      <th>Unnamed: 7</th>\n",
       "      <th>Unnamed: 8</th>\n",
       "      <th>Unnamed: 9</th>\n",
       "    </tr>\n",
       "  </thead>\n",
       "  <tbody>\n",
       "    <tr>\n",
       "      <th>0</th>\n",
       "      <td>NaN</td>\n",
       "      <td>NaN</td>\n",
       "      <td>NaN</td>\n",
       "      <td>PRODUÇÃO</td>\n",
       "      <td>NaN</td>\n",
       "      <td>NaN</td>\n",
       "      <td>NaN</td>\n",
       "      <td>NaN</td>\n",
       "      <td>NaN</td>\n",
       "      <td>NaN</td>\n",
       "      <td>NaN</td>\n",
       "    </tr>\n",
       "    <tr>\n",
       "      <th>1</th>\n",
       "      <td>NaN</td>\n",
       "      <td>NaN</td>\n",
       "      <td>NaN</td>\n",
       "      <td>NaN</td>\n",
       "      <td>NaN</td>\n",
       "      <td>NaN</td>\n",
       "      <td>Papel</td>\n",
       "      <td>NaN</td>\n",
       "      <td>NaN</td>\n",
       "      <td>NaN</td>\n",
       "      <td>NaN</td>\n",
       "    </tr>\n",
       "    <tr>\n",
       "      <th>2</th>\n",
       "      <td>No de Partic.</td>\n",
       "      <td>CNPJ</td>\n",
       "      <td>ISPB</td>\n",
       "      <td>Razão Social</td>\n",
       "      <td>NaN</td>\n",
       "      <td>NaN</td>\n",
       "      <td>NaN</td>\n",
       "      <td>NaN</td>\n",
       "      <td>NaN</td>\n",
       "      <td>NaN</td>\n",
       "      <td>NaN</td>\n",
       "    </tr>\n",
       "    <tr>\n",
       "      <th>3</th>\n",
       "      <td>356</td>\n",
       "      <td>33.172.537/0001.98</td>\n",
       "      <td>33172537</td>\n",
       "      <td>BANCO J.P. MORGAN S.A.</td>\n",
       "      <td>NaN</td>\n",
       "      <td>X</td>\n",
       "      <td>NaN</td>\n",
       "      <td>X</td>\n",
       "      <td>NaN</td>\n",
       "      <td>NaN</td>\n",
       "      <td>NaN</td>\n",
       "    </tr>\n",
       "    <tr>\n",
       "      <th>4</th>\n",
       "      <td>357</td>\n",
       "      <td>33.254.319/0001.00</td>\n",
       "      <td>33254319</td>\n",
       "      <td>BANCO LOSANGO S.A. - BANCO MULTIPLO</td>\n",
       "      <td>NaN</td>\n",
       "      <td>NaN</td>\n",
       "      <td>X</td>\n",
       "      <td>NaN</td>\n",
       "      <td>NaN</td>\n",
       "      <td>NaN</td>\n",
       "      <td>NaN</td>\n",
       "    </tr>\n",
       "  </tbody>\n",
       "</table>\n",
       "</div>"
      ],
      "text/plain": [
       "      Unnamed: 0          Unnamed: 1 Unnamed: 2  \\\n",
       "0            NaN                 NaN        NaN   \n",
       "1            NaN                 NaN        NaN   \n",
       "2  No de Partic.                CNPJ       ISPB   \n",
       "3            356  33.172.537/0001.98   33172537   \n",
       "4            357  33.254.319/0001.00   33254319   \n",
       "\n",
       "        SLC - RELAÇÃO DE PARTICIPANTES Unnamed: 3 Unnamed: 4 Unnamed: 5  \\\n",
       "0                             PRODUÇÃO        NaN        NaN        NaN   \n",
       "1                                  NaN        NaN        NaN      Papel   \n",
       "2                         Razão Social        NaN        NaN        NaN   \n",
       "3               BANCO J.P. MORGAN S.A.        NaN          X        NaN   \n",
       "4  BANCO LOSANGO S.A. - BANCO MULTIPLO        NaN        NaN          X   \n",
       "\n",
       "  Unnamed: 6 Unnamed: 7 Unnamed: 8 Unnamed: 9  \n",
       "0        NaN        NaN        NaN        NaN  \n",
       "1        NaN        NaN        NaN        NaN  \n",
       "2        NaN        NaN        NaN        NaN  \n",
       "3          X        NaN        NaN        NaN  \n",
       "4        NaN        NaN        NaN        NaN  "
      ]
     },
     "execution_count": 239,
     "metadata": {},
     "output_type": "execute_result"
    }
   ],
   "source": [
    "df_cip[4].head()"
   ]
  },
  {
   "cell_type": "code",
   "execution_count": 210,
   "metadata": {},
   "outputs": [
    {
     "name": "stdout",
     "output_type": "stream",
     "text": [
      "<class 'pandas.core.frame.DataFrame'>\n",
      "RangeIndex: 87 entries, 3 to 89\n",
      "Data columns (total 13 columns):\n",
      " #   Column                    Non-Null Count  Dtype  \n",
      "---  ------                    --------------  -----  \n",
      " 0   Unnamed: 0                0 non-null      float64\n",
      " 1   Atualizado em 11.08.2022  87 non-null     object \n",
      " 2   Unnamed: 1                87 non-null     object \n",
      " 3   Unnamed: 2                87 non-null     object \n",
      " 4   Unnamed: 3                87 non-null     object \n",
      " 5   Unnamed: 4                4 non-null      object \n",
      " 6   Unnamed: 5                15 non-null     object \n",
      " 7   Unnamed: 6                19 non-null     object \n",
      " 8   Unnamed: 7                38 non-null     object \n",
      " 9   Unnamed: 8                22 non-null     object \n",
      " 10  Unnamed: 9                7 non-null      object \n",
      " 11  Unnamed: 10               32 non-null     object \n",
      " 12  Unnamed: 11               0 non-null      float64\n",
      "dtypes: float64(2), object(11)\n",
      "memory usage: 9.0+ KB\n"
     ]
    }
   ],
   "source": [
    "df_cip[0].info()\n",
    "\n",
    "# Remove unnecessary columns from the first and forth pages\n",
    "df_cip[0] = df_cip[0].drop(df_cip[0].columns[[0,1,12]], axis=1)\n",
    "df_cip[4] = df_cip[4].drop(df_cip[4].columns[[0]], axis=1)\n",
    "\n",
    "# Naming the columns correctly\n",
    "df_cip[0].columns = [\"cnpj\", \"ispb\", \"corporate_name\", \"is_iap\", \"is_acquirer\", \\\n",
    "    \"is_bank_account_owner\", \"is_issuer\", \"is_settler\", \"is_subacquirer\", \"is_subacquirer_receiver\"]"
   ]
  },
  {
   "cell_type": "code",
   "execution_count": 223,
   "metadata": {},
   "outputs": [
    {
     "data": {
      "text/html": [
       "<div>\n",
       "<style scoped>\n",
       "    .dataframe tbody tr th:only-of-type {\n",
       "        vertical-align: middle;\n",
       "    }\n",
       "\n",
       "    .dataframe tbody tr th {\n",
       "        vertical-align: top;\n",
       "    }\n",
       "\n",
       "    .dataframe thead th {\n",
       "        text-align: right;\n",
       "    }\n",
       "</style>\n",
       "<table border=\"1\" class=\"dataframe\">\n",
       "  <thead>\n",
       "    <tr style=\"text-align: right;\">\n",
       "      <th></th>\n",
       "      <th>Unnamed: 0</th>\n",
       "      <th>Unnamed: 1</th>\n",
       "      <th>Unnamed: 2</th>\n",
       "      <th>SLC - RELAÇÃO DE PARTICIPANTES</th>\n",
       "      <th>Unnamed: 3</th>\n",
       "      <th>Unnamed: 4</th>\n",
       "      <th>Unnamed: 5</th>\n",
       "      <th>Unnamed: 6</th>\n",
       "      <th>Unnamed: 7</th>\n",
       "      <th>Unnamed: 8</th>\n",
       "      <th>Unnamed: 9</th>\n",
       "    </tr>\n",
       "  </thead>\n",
       "  <tbody>\n",
       "    <tr>\n",
       "      <th>0</th>\n",
       "      <td>NaN</td>\n",
       "      <td>NaN</td>\n",
       "      <td>NaN</td>\n",
       "      <td>PRODUÇÃO</td>\n",
       "      <td>NaN</td>\n",
       "      <td>NaN</td>\n",
       "      <td>NaN</td>\n",
       "      <td>NaN</td>\n",
       "      <td>NaN</td>\n",
       "      <td>NaN</td>\n",
       "      <td>NaN</td>\n",
       "    </tr>\n",
       "    <tr>\n",
       "      <th>1</th>\n",
       "      <td>NaN</td>\n",
       "      <td>NaN</td>\n",
       "      <td>NaN</td>\n",
       "      <td>NaN</td>\n",
       "      <td>NaN</td>\n",
       "      <td>NaN</td>\n",
       "      <td>Papel</td>\n",
       "      <td>NaN</td>\n",
       "      <td>NaN</td>\n",
       "      <td>NaN</td>\n",
       "      <td>NaN</td>\n",
       "    </tr>\n",
       "    <tr>\n",
       "      <th>2</th>\n",
       "      <td>No de Partic.</td>\n",
       "      <td>CNPJ</td>\n",
       "      <td>ISPB</td>\n",
       "      <td>Razão Social</td>\n",
       "      <td>NaN</td>\n",
       "      <td>NaN</td>\n",
       "      <td>NaN</td>\n",
       "      <td>NaN</td>\n",
       "      <td>NaN</td>\n",
       "      <td>NaN</td>\n",
       "      <td>NaN</td>\n",
       "    </tr>\n",
       "    <tr>\n",
       "      <th>3</th>\n",
       "      <td>356</td>\n",
       "      <td>33.172.537/0001.98</td>\n",
       "      <td>33172537</td>\n",
       "      <td>BANCO J.P. MORGAN S.A.</td>\n",
       "      <td>NaN</td>\n",
       "      <td>X</td>\n",
       "      <td>NaN</td>\n",
       "      <td>X</td>\n",
       "      <td>NaN</td>\n",
       "      <td>NaN</td>\n",
       "      <td>NaN</td>\n",
       "    </tr>\n",
       "    <tr>\n",
       "      <th>4</th>\n",
       "      <td>357</td>\n",
       "      <td>33.254.319/0001.00</td>\n",
       "      <td>33254319</td>\n",
       "      <td>BANCO LOSANGO S.A. - BANCO MULTIPLO</td>\n",
       "      <td>NaN</td>\n",
       "      <td>NaN</td>\n",
       "      <td>X</td>\n",
       "      <td>NaN</td>\n",
       "      <td>NaN</td>\n",
       "      <td>NaN</td>\n",
       "      <td>NaN</td>\n",
       "    </tr>\n",
       "  </tbody>\n",
       "</table>\n",
       "</div>"
      ],
      "text/plain": [
       "      Unnamed: 0          Unnamed: 1 Unnamed: 2  \\\n",
       "0            NaN                 NaN        NaN   \n",
       "1            NaN                 NaN        NaN   \n",
       "2  No de Partic.                CNPJ       ISPB   \n",
       "3            356  33.172.537/0001.98   33172537   \n",
       "4            357  33.254.319/0001.00   33254319   \n",
       "\n",
       "        SLC - RELAÇÃO DE PARTICIPANTES Unnamed: 3 Unnamed: 4 Unnamed: 5  \\\n",
       "0                             PRODUÇÃO        NaN        NaN        NaN   \n",
       "1                                  NaN        NaN        NaN      Papel   \n",
       "2                         Razão Social        NaN        NaN        NaN   \n",
       "3               BANCO J.P. MORGAN S.A.        NaN          X        NaN   \n",
       "4  BANCO LOSANGO S.A. - BANCO MULTIPLO        NaN        NaN          X   \n",
       "\n",
       "  Unnamed: 6 Unnamed: 7 Unnamed: 8 Unnamed: 9  \n",
       "0        NaN        NaN        NaN        NaN  \n",
       "1        NaN        NaN        NaN        NaN  \n",
       "2        NaN        NaN        NaN        NaN  \n",
       "3          X        NaN        NaN        NaN  \n",
       "4        NaN        NaN        NaN        NaN  "
      ]
     },
     "execution_count": 223,
     "metadata": {},
     "output_type": "execute_result"
    }
   ],
   "source": [
    "df_cip[4].head()"
   ]
  },
  {
   "cell_type": "code",
   "execution_count": 193,
   "metadata": {},
   "outputs": [
    {
     "ename": "IndexError",
     "evalue": "index 12 is out of bounds for axis 0 with size 11",
     "output_type": "error",
     "traceback": [
      "\u001b[0;31m---------------------------------------------------------------------------\u001b[0m",
      "\u001b[0;31mIndexError\u001b[0m                                Traceback (most recent call last)",
      "\u001b[1;32m/home/avirzin/Projects/subacquirers_brazil/subacquirers_br.ipynb Cell 6\u001b[0m in \u001b[0;36m<cell line: 1>\u001b[0;34m()\u001b[0m\n\u001b[1;32m      <a href='vscode-notebook-cell://wsl%2Bubuntu-22.04/home/avirzin/Projects/subacquirers_brazil/subacquirers_br.ipynb#X41sdnNjb2RlLXJlbW90ZQ%3D%3D?line=0'>1</a>\u001b[0m \u001b[39mfor\u001b[39;00m i \u001b[39min\u001b[39;00m \u001b[39mrange\u001b[39m(\u001b[39m1\u001b[39m,\u001b[39m5\u001b[39m):\n\u001b[1;32m      <a href='vscode-notebook-cell://wsl%2Bubuntu-22.04/home/avirzin/Projects/subacquirers_brazil/subacquirers_br.ipynb#X41sdnNjb2RlLXJlbW90ZQ%3D%3D?line=1'>2</a>\u001b[0m     df_cip[i] \u001b[39m=\u001b[39m df_cip[i]\u001b[39m.\u001b[39mdrop(df_cip[i]\u001b[39m.\u001b[39mindex[:\u001b[39m2\u001b[39m])\n\u001b[0;32m----> <a href='vscode-notebook-cell://wsl%2Bubuntu-22.04/home/avirzin/Projects/subacquirers_brazil/subacquirers_br.ipynb#X41sdnNjb2RlLXJlbW90ZQ%3D%3D?line=2'>3</a>\u001b[0m     df_cip[i] \u001b[39m=\u001b[39m df_cip[i]\u001b[39m.\u001b[39mdrop(df_cip[i]\u001b[39m.\u001b[39;49mcolumns[[\u001b[39m0\u001b[39;49m,\u001b[39m1\u001b[39;49m,\u001b[39m12\u001b[39;49m]], axis\u001b[39m=\u001b[39m\u001b[39m1\u001b[39m)\n\u001b[1;32m      <a href='vscode-notebook-cell://wsl%2Bubuntu-22.04/home/avirzin/Projects/subacquirers_brazil/subacquirers_br.ipynb#X41sdnNjb2RlLXJlbW90ZQ%3D%3D?line=3'>4</a>\u001b[0m     df_cip[i]\u001b[39m.\u001b[39mcolumns \u001b[39m=\u001b[39m [\u001b[39m\"\u001b[39m\u001b[39mcnpj\u001b[39m\u001b[39m\"\u001b[39m, \u001b[39m\"\u001b[39m\u001b[39mispb\u001b[39m\u001b[39m\"\u001b[39m, \u001b[39m\"\u001b[39m\u001b[39mcorporate_name\u001b[39m\u001b[39m\"\u001b[39m, \u001b[39m\"\u001b[39m\u001b[39mis_iap\u001b[39m\u001b[39m\"\u001b[39m, \u001b[39m\"\u001b[39m\u001b[39mis_acquirer\u001b[39m\u001b[39m\"\u001b[39m, \\\n\u001b[1;32m      <a href='vscode-notebook-cell://wsl%2Bubuntu-22.04/home/avirzin/Projects/subacquirers_brazil/subacquirers_br.ipynb#X41sdnNjb2RlLXJlbW90ZQ%3D%3D?line=4'>5</a>\u001b[0m         \u001b[39m\"\u001b[39m\u001b[39mis_bank_account_owner\u001b[39m\u001b[39m\"\u001b[39m, \u001b[39m\"\u001b[39m\u001b[39mis_issuer\u001b[39m\u001b[39m\"\u001b[39m, \u001b[39m\"\u001b[39m\u001b[39mis_settler\u001b[39m\u001b[39m\"\u001b[39m, \u001b[39m\"\u001b[39m\u001b[39mis_subacquirer\u001b[39m\u001b[39m\"\u001b[39m, \u001b[39m\"\u001b[39m\u001b[39mis_subacquirer_receiver\u001b[39m\u001b[39m\"\u001b[39m]\n",
      "File \u001b[0;32m~/anaconda3/lib/python3.9/site-packages/pandas/core/indexes/base.py:5055\u001b[0m, in \u001b[0;36mIndex.__getitem__\u001b[0;34m(self, key)\u001b[0m\n\u001b[1;32m   5048\u001b[0m \u001b[39mif\u001b[39;00m com\u001b[39m.\u001b[39mis_bool_indexer(key):\n\u001b[1;32m   5049\u001b[0m     \u001b[39m# if we have list[bools, length=1e5] then doing this check+convert\u001b[39;00m\n\u001b[1;32m   5050\u001b[0m     \u001b[39m#  takes 166 µs + 2.1 ms and cuts the ndarray.__getitem__\u001b[39;00m\n\u001b[1;32m   5051\u001b[0m     \u001b[39m#  time below from 3.8 ms to 496 µs\u001b[39;00m\n\u001b[1;32m   5052\u001b[0m     \u001b[39m# if we already have ndarray[bool], the overhead is 1.4 µs or .25%\u001b[39;00m\n\u001b[1;32m   5053\u001b[0m     key \u001b[39m=\u001b[39m np\u001b[39m.\u001b[39masarray(key, dtype\u001b[39m=\u001b[39m\u001b[39mbool\u001b[39m)\n\u001b[0;32m-> 5055\u001b[0m result \u001b[39m=\u001b[39m getitem(key)\n\u001b[1;32m   5056\u001b[0m \u001b[39m# Because we ruled out integer above, we always get an arraylike here\u001b[39;00m\n\u001b[1;32m   5057\u001b[0m \u001b[39mif\u001b[39;00m result\u001b[39m.\u001b[39mndim \u001b[39m>\u001b[39m \u001b[39m1\u001b[39m:\n",
      "\u001b[0;31mIndexError\u001b[0m: index 12 is out of bounds for axis 0 with size 11"
     ]
    }
   ],
   "source": [
    "for i in (1,2,3,5):\n",
    "    df_cip[i] = df_cip[i].drop(df_cip[i].index[:2])\n",
    "    df_cip[i] = df_cip[i].drop(df_cip[i].columns[[0,1,12]], axis=1)\n",
    "    df_cip[i].columns = [\"cnpj\", \"ispb\", \"corporate_name\", \"is_iap\", \"is_acquirer\", \\\n",
    "        \"is_bank_account_owner\", \"is_issuer\", \"is_settler\", \"is_subacquirer\", \"is_subacquirer_receiver\"]"
   ]
  },
  {
   "cell_type": "code",
   "execution_count": 242,
   "metadata": {},
   "outputs": [],
   "source": [
    "# Remove unnecessary columns from the first page and forth page\n",
    "df_cip[0] = df_cip[0].drop(df_cip[0].columns[[0,1,12]], axis=1)\n",
    "df_cip[4] = df_cip[4].drop(df_cip[4].columns[[0]], axis=1)\n",
    "\n",
    "# Naming the columns correctly\n",
    "df_cip[0].columns = [\"cnpj\", \"ispb\", \"corporate_name\", \"is_iap\", \"is_acquirer\", \\\n",
    "    \"is_bank_account_owner\", \"is_issuer\", \"is_settler\", \"is_subacquirer\", \"is_subacquirer_receiver\"]\n",
    "df_cip[4].columns = df_cip[0].columns\n",
    "\n",
    "# Handling all the pages at one expcept the 4th page (!!!)\n",
    "for i in (1,2,3,5):\n",
    "    df_cip[i] = df_cip[i].drop(df_cip[i].index[:2])\n",
    "    df_cip[i] = df_cip[i].drop(df_cip[i].columns[[0,1,12]], axis=1)\n",
    "    df_cip[i].columns = [\"cnpj\", \"ispb\", \"corporate_name\", \"is_iap\", \"is_acquirer\", \\\n",
    "        \"is_bank_account_owner\", \"is_issuer\", \"is_settler\", \"is_subacquirer\", \"is_subacquirer_receiver\"]\n",
    "\n",
    "df_cip = pd.concat([df_cip[0], df_cip[1], df_cip[2], df_cip[3], df_cip[4], df_cip[5]], ignore_index=True)\n",
    "\n",
    "df_cip[\"cnpj\"] = df_cip[\"cnpj\"].str.replace(\"[./-]\", \"\", regex=True)"
   ]
  },
  {
   "cell_type": "code",
   "execution_count": 243,
   "metadata": {},
   "outputs": [
    {
     "name": "stdout",
     "output_type": "stream",
     "text": [
      "<class 'pandas.core.frame.DataFrame'>\n",
      "RangeIndex: 420 entries, 0 to 419\n",
      "Data columns (total 10 columns):\n",
      " #   Column                   Non-Null Count  Dtype \n",
      "---  ------                   --------------  ----- \n",
      " 0   cnpj                     420 non-null    object\n",
      " 1   ispb                     420 non-null    object\n",
      " 2   corporate_name           420 non-null    object\n",
      " 3   is_iap                   11 non-null     object\n",
      " 4   is_acquirer              63 non-null     object\n",
      " 5   is_bank_account_owner    64 non-null     object\n",
      " 6   is_issuer                116 non-null    object\n",
      " 7   is_settler               46 non-null     object\n",
      " 8   is_subacquirer           60 non-null     object\n",
      " 9   is_subacquirer_receiver  220 non-null    object\n",
      "dtypes: object(10)\n",
      "memory usage: 32.9+ KB\n"
     ]
    }
   ],
   "source": [
    "df_cip.info()"
   ]
  },
  {
   "cell_type": "code",
   "execution_count": 132,
   "metadata": {},
   "outputs": [],
   "source": [
    "df_cip[1] = df_cip[1].drop(df_cip[1].columns[[0,1,12]], axis=1)"
   ]
  },
  {
   "cell_type": "code",
   "execution_count": 134,
   "metadata": {},
   "outputs": [],
   "source": [
    "df_cip[1].columns = [\"cnpj\", \"ispb\", \"corporate_name\", \"is_iap\", \"is_acquirer\", \\\n",
    "         \"is_bank_account_owner\", \"is_issuer\", \"is_settler\", \"is_subacquirer\", \"is_subacquirer_receiver\"]"
   ]
  },
  {
   "cell_type": "code",
   "execution_count": 170,
   "metadata": {},
   "outputs": [],
   "source": [
    "df_cip_test = pd.concat([df_cip[0], df_cip[1], df_cip[2]], ignore_index=True)"
   ]
  },
  {
   "cell_type": "code",
   "execution_count": 237,
   "metadata": {},
   "outputs": [
    {
     "ename": "KeyError",
     "evalue": "4",
     "output_type": "error",
     "traceback": [
      "\u001b[0;31m---------------------------------------------------------------------------\u001b[0m",
      "\u001b[0;31mKeyError\u001b[0m                                  Traceback (most recent call last)",
      "File \u001b[0;32m~/anaconda3/lib/python3.9/site-packages/pandas/core/indexes/base.py:3621\u001b[0m, in \u001b[0;36mIndex.get_loc\u001b[0;34m(self, key, method, tolerance)\u001b[0m\n\u001b[1;32m   3620\u001b[0m \u001b[39mtry\u001b[39;00m:\n\u001b[0;32m-> 3621\u001b[0m     \u001b[39mreturn\u001b[39;00m \u001b[39mself\u001b[39;49m\u001b[39m.\u001b[39;49m_engine\u001b[39m.\u001b[39;49mget_loc(casted_key)\n\u001b[1;32m   3622\u001b[0m \u001b[39mexcept\u001b[39;00m \u001b[39mKeyError\u001b[39;00m \u001b[39mas\u001b[39;00m err:\n",
      "File \u001b[0;32m~/anaconda3/lib/python3.9/site-packages/pandas/_libs/index.pyx:136\u001b[0m, in \u001b[0;36mpandas._libs.index.IndexEngine.get_loc\u001b[0;34m()\u001b[0m\n",
      "File \u001b[0;32m~/anaconda3/lib/python3.9/site-packages/pandas/_libs/index.pyx:163\u001b[0m, in \u001b[0;36mpandas._libs.index.IndexEngine.get_loc\u001b[0;34m()\u001b[0m\n",
      "File \u001b[0;32mpandas/_libs/hashtable_class_helper.pxi:5198\u001b[0m, in \u001b[0;36mpandas._libs.hashtable.PyObjectHashTable.get_item\u001b[0;34m()\u001b[0m\n",
      "File \u001b[0;32mpandas/_libs/hashtable_class_helper.pxi:5206\u001b[0m, in \u001b[0;36mpandas._libs.hashtable.PyObjectHashTable.get_item\u001b[0;34m()\u001b[0m\n",
      "\u001b[0;31mKeyError\u001b[0m: 4",
      "\nThe above exception was the direct cause of the following exception:\n",
      "\u001b[0;31mKeyError\u001b[0m                                  Traceback (most recent call last)",
      "\u001b[1;32m/home/avirzin/Projects/subacquirers_brazil/subacquirers_br.ipynb Cell 14\u001b[0m in \u001b[0;36m<cell line: 1>\u001b[0;34m()\u001b[0m\n\u001b[0;32m----> <a href='vscode-notebook-cell://wsl%2Bubuntu-22.04/home/avirzin/Projects/subacquirers_brazil/subacquirers_br.ipynb#X32sdnNjb2RlLXJlbW90ZQ%3D%3D?line=0'>1</a>\u001b[0m df_cip[\u001b[39m4\u001b[39;49m]\u001b[39m.\u001b[39minfo()\n",
      "File \u001b[0;32m~/anaconda3/lib/python3.9/site-packages/pandas/core/frame.py:3505\u001b[0m, in \u001b[0;36mDataFrame.__getitem__\u001b[0;34m(self, key)\u001b[0m\n\u001b[1;32m   3503\u001b[0m \u001b[39mif\u001b[39;00m \u001b[39mself\u001b[39m\u001b[39m.\u001b[39mcolumns\u001b[39m.\u001b[39mnlevels \u001b[39m>\u001b[39m \u001b[39m1\u001b[39m:\n\u001b[1;32m   3504\u001b[0m     \u001b[39mreturn\u001b[39;00m \u001b[39mself\u001b[39m\u001b[39m.\u001b[39m_getitem_multilevel(key)\n\u001b[0;32m-> 3505\u001b[0m indexer \u001b[39m=\u001b[39m \u001b[39mself\u001b[39;49m\u001b[39m.\u001b[39;49mcolumns\u001b[39m.\u001b[39;49mget_loc(key)\n\u001b[1;32m   3506\u001b[0m \u001b[39mif\u001b[39;00m is_integer(indexer):\n\u001b[1;32m   3507\u001b[0m     indexer \u001b[39m=\u001b[39m [indexer]\n",
      "File \u001b[0;32m~/anaconda3/lib/python3.9/site-packages/pandas/core/indexes/base.py:3623\u001b[0m, in \u001b[0;36mIndex.get_loc\u001b[0;34m(self, key, method, tolerance)\u001b[0m\n\u001b[1;32m   3621\u001b[0m     \u001b[39mreturn\u001b[39;00m \u001b[39mself\u001b[39m\u001b[39m.\u001b[39m_engine\u001b[39m.\u001b[39mget_loc(casted_key)\n\u001b[1;32m   3622\u001b[0m \u001b[39mexcept\u001b[39;00m \u001b[39mKeyError\u001b[39;00m \u001b[39mas\u001b[39;00m err:\n\u001b[0;32m-> 3623\u001b[0m     \u001b[39mraise\u001b[39;00m \u001b[39mKeyError\u001b[39;00m(key) \u001b[39mfrom\u001b[39;00m \u001b[39merr\u001b[39;00m\n\u001b[1;32m   3624\u001b[0m \u001b[39mexcept\u001b[39;00m \u001b[39mTypeError\u001b[39;00m:\n\u001b[1;32m   3625\u001b[0m     \u001b[39m# If we have a listlike key, _check_indexing_error will raise\u001b[39;00m\n\u001b[1;32m   3626\u001b[0m     \u001b[39m#  InvalidIndexError. Otherwise we fall through and re-raise\u001b[39;00m\n\u001b[1;32m   3627\u001b[0m     \u001b[39m#  the TypeError.\u001b[39;00m\n\u001b[1;32m   3628\u001b[0m     \u001b[39mself\u001b[39m\u001b[39m.\u001b[39m_check_indexing_error(key)\n",
      "\u001b[0;31mKeyError\u001b[0m: 4"
     ]
    }
   ],
   "source": [
    "df_cip[4].info()"
   ]
  }
 ],
 "metadata": {
  "kernelspec": {
   "display_name": "Python 3.9.12 ('base')",
   "language": "python",
   "name": "python3"
  },
  "language_info": {
   "codemirror_mode": {
    "name": "ipython",
    "version": 3
   },
   "file_extension": ".py",
   "mimetype": "text/x-python",
   "name": "python",
   "nbconvert_exporter": "python",
   "pygments_lexer": "ipython3",
   "version": "3.9.12"
  },
  "orig_nbformat": 4,
  "vscode": {
   "interpreter": {
    "hash": "6c579983f7667a31f4d372656832fc7fa7d5f913ae29acdfe1e6cdaa0724d612"
   }
  }
 },
 "nbformat": 4,
 "nbformat_minor": 2
}
