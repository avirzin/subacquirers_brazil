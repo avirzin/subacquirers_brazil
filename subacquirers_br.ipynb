{
 "cells": [
  {
   "cell_type": "markdown",
   "metadata": {},
   "source": [
    "## Understanding the relationship between CERC and CIP participants\n",
    "\n",
    "Let's start extracting the list of participants from publicly available lists starting with CERC."
   ]
  },
  {
   "cell_type": "code",
   "execution_count": 97,
   "metadata": {},
   "outputs": [],
   "source": [
    "import tabula\n",
    "import pandas as pd\n",
    "\n",
    "df_cerc = tabula.read_pdf(\"./input/LISTA-PARTICIPANTES-CERC-ARRANJOS-DE-PAGAMENTO-1.pdf\", pages=\"all\")\n",
    "\n",
    "# In first dataframe transform the first row in header\n",
    "df_cerc[0].columns = df_cerc[0].iloc[0]\n",
    "df_cerc[0] = df_cerc[0].drop(df_cerc[0].index[0])\n",
    "\n",
    "# Transform the header in the first row\n",
    "for i in range(1,7):\n",
    "    df_cerc[i].loc[-1] = df_cerc[i].columns\n",
    "    df_cerc[i].index = df_cerc[i].index + 1\n",
    "    df_cerc[i].sort_index(inplace=True)\n",
    "    df_cerc[i].columns = df_cerc[0].columns\n",
    "\n",
    "df_cerc = pd.concat([df_cerc[0], df_cerc[1], df_cerc[2], df_cerc[3], df_cerc[4], df_cerc[5], df_cerc[6]], ignore_index=True)\n",
    "\n",
    "# Remove the first column in all the dataframes\n",
    "df_cerc = df_cerc.drop(df_cerc.columns[:1], axis=1)\n",
    "\n",
    "df_cerc.reset_index(drop=True)\n",
    "\n",
    "# Renaming the columns\n",
    "df_cerc.columns = [\"corporate_name\", \"cnpj\", \"profile\"]\n",
    "\n",
    "# Remove dashes and dots in cnpj column\n",
    "df_cerc[\"cnpj\"] = df_cerc[\"cnpj\"].str.replace(\"[./-]\", \"\", regex=True)\n",
    "\n"
   ]
  },
  {
   "cell_type": "markdown",
   "metadata": {},
   "source": [
    "The same operation we perform with CIP:"
   ]
  },
  {
   "cell_type": "code",
   "execution_count": 253,
   "metadata": {},
   "outputs": [],
   "source": [
    "df_cip = tabula.read_pdf(\"./input/Participantes Homologados.pdf\", pages=\"all\")\n",
    "\n",
    "# Remove first three rows from the first page\n",
    "df_cip[0] = df_cip[0].drop(df_cip[0].index[:3])\n",
    "df_cip[4] = df_cip[4].drop(df_cip[4].index[:3])\n"
   ]
  },
  {
   "cell_type": "code",
   "execution_count": 254,
   "metadata": {},
   "outputs": [],
   "source": [
    "# Remove unnecessary columns from the first page and forth page\n",
    "df_cip[0] = df_cip[0].drop(df_cip[0].columns[[0,1,12]], axis=1)\n",
    "df_cip[4] = df_cip[4].drop(df_cip[4].columns[[0]], axis=1)\n",
    "\n",
    "# Naming the columns correctly\n",
    "df_cip[0].columns = [\"cnpj\", \"ispb\", \"corporate_name\", \"is_iap\", \"is_acquirer\", \\\n",
    "    \"is_bank_account_owner\", \"is_issuer\", \"is_settler\", \"is_subacquirer\", \"is_subacquirer_receiver\"]\n",
    "df_cip[4].columns = df_cip[0].columns\n",
    "\n",
    "# Handling all the pages at one expcept the 4th page (!!!)\n",
    "for i in (1,2,3,5):\n",
    "    df_cip[i] = df_cip[i].drop(df_cip[i].index[:2])\n",
    "    df_cip[i] = df_cip[i].drop(df_cip[i].columns[[0,1,12]], axis=1)\n",
    "    df_cip[i].columns = [\"cnpj\", \"ispb\", \"corporate_name\", \"is_iap\", \"is_acquirer\", \\\n",
    "        \"is_bank_account_owner\", \"is_issuer\", \"is_settler\", \"is_subacquirer\", \"is_subacquirer_receiver\"]\n",
    "\n",
    "df_cip = pd.concat([df_cip[0], df_cip[1], df_cip[2], df_cip[3], df_cip[4], df_cip[5]], ignore_index=True)\n",
    "\n",
    "df_cip[\"cnpj\"] = df_cip[\"cnpj\"].str.replace(\"[./-]\", \"\", regex=True)"
   ]
  },
  {
   "cell_type": "code",
   "execution_count": 255,
   "metadata": {},
   "outputs": [],
   "source": [
    "# Merging CIP and CERC dataframes\n",
    "df_merged = pd.merge(df_cerc, df_cip, on=\"cnpj\", how=\"inner\")"
   ]
  },
  {
   "cell_type": "code",
   "execution_count": 267,
   "metadata": {},
   "outputs": [
    {
     "name": "stdout",
     "output_type": "stream",
     "text": [
      "<class 'pandas.core.frame.DataFrame'>\n",
      "Int64Index: 163 entries, 0 to 162\n",
      "Data columns (total 12 columns):\n",
      " #   Column                   Non-Null Count  Dtype \n",
      "---  ------                   --------------  ----- \n",
      " 0   corporate_name_x         163 non-null    object\n",
      " 1   cnpj                     163 non-null    object\n",
      " 2   profile                  163 non-null    object\n",
      " 3   ispb                     163 non-null    object\n",
      " 4   corporate_name_y         163 non-null    object\n",
      " 5   is_iap                   10 non-null     object\n",
      " 6   is_acquirer              57 non-null     object\n",
      " 7   is_bank_account_owner    33 non-null     object\n",
      " 8   is_issuer                34 non-null     object\n",
      " 9   is_settler               16 non-null     object\n",
      " 10  is_subacquirer           60 non-null     object\n",
      " 11  is_subacquirer_receiver  70 non-null     object\n",
      "dtypes: object(12)\n",
      "memory usage: 16.6+ KB\n"
     ]
    }
   ],
   "source": [
    "df_merged.info()\n",
    "df_merged.fillna({'is_iap':False, 'is_acquirer':False, 'is_bank_account_owner':False, 'is_issuer':False,\\\n",
    "    'is_settler':False, 'is_subacquirer': False, 'is_subacquirer_receiver':False}, inplace=True)"
   ]
  },
  {
   "cell_type": "code",
   "execution_count": 268,
   "metadata": {},
   "outputs": [],
   "source": [
    "df_sub = df_merged.loc[(df_merged['is_subacquirer'] == \"X\") | (df_merged['is_subacquirer_receiver'] == \"X\")]"
   ]
  },
  {
   "cell_type": "code",
   "execution_count": 270,
   "metadata": {},
   "outputs": [
    {
     "name": "stdout",
     "output_type": "stream",
     "text": [
      "<class 'pandas.core.frame.DataFrame'>\n",
      "Int64Index: 117 entries, 0 to 162\n",
      "Data columns (total 12 columns):\n",
      " #   Column                   Non-Null Count  Dtype \n",
      "---  ------                   --------------  ----- \n",
      " 0   corporate_name_x         117 non-null    object\n",
      " 1   cnpj                     117 non-null    object\n",
      " 2   profile                  117 non-null    object\n",
      " 3   ispb                     117 non-null    object\n",
      " 4   corporate_name_y         117 non-null    object\n",
      " 5   is_iap                   117 non-null    object\n",
      " 6   is_acquirer              117 non-null    object\n",
      " 7   is_bank_account_owner    117 non-null    object\n",
      " 8   is_issuer                117 non-null    object\n",
      " 9   is_settler               117 non-null    object\n",
      " 10  is_subacquirer           117 non-null    object\n",
      " 11  is_subacquirer_receiver  117 non-null    object\n",
      "dtypes: object(12)\n",
      "memory usage: 11.9+ KB\n"
     ]
    }
   ],
   "source": [
    "df_sub.info()"
   ]
  },
  {
   "cell_type": "code",
   "execution_count": 271,
   "metadata": {},
   "outputs": [],
   "source": [
    "df_acquirers = df_cip.loc[df_cip['is_acquirer'] == \"X\"]"
   ]
  },
  {
   "cell_type": "code",
   "execution_count": 269,
   "metadata": {},
   "outputs": [],
   "source": [
    "df_sub.to_csv(\"./output/subacquirers_br.csv\", index=False)"
   ]
  }
 ],
 "metadata": {
  "kernelspec": {
   "display_name": "Python 3.9.12 ('base')",
   "language": "python",
   "name": "python3"
  },
  "language_info": {
   "codemirror_mode": {
    "name": "ipython",
    "version": 3
   },
   "file_extension": ".py",
   "mimetype": "text/x-python",
   "name": "python",
   "nbconvert_exporter": "python",
   "pygments_lexer": "ipython3",
   "version": "3.9.12"
  },
  "orig_nbformat": 4,
  "vscode": {
   "interpreter": {
    "hash": "6c579983f7667a31f4d372656832fc7fa7d5f913ae29acdfe1e6cdaa0724d612"
   }
  }
 },
 "nbformat": 4,
 "nbformat_minor": 2
}
